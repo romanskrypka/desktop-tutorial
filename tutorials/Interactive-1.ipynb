{
 "cells": [
  {
   "cell_type": "markdown",
   "metadata": {
    "isInteractiveWindowMessageCell": true
   },
   "source": [
    "Connected to Python 3.11.4"
   ]
  },
  {
   "cell_type": "code",
   "execution_count": 1,
   "metadata": {},
   "outputs": [
    {
     "ename": "NameError",
     "evalue": "name 'MutableSet' is not defined",
     "output_type": "error",
     "traceback": [
      "\u001b[1;31m---------------------------------------------------------------------------\u001b[0m",
      "\u001b[1;31mNameError\u001b[0m                                 Traceback (most recent call last)",
      "File \u001b[1;32mc:\\Users\\CPO_V\\OneDrive\\Документы\\SPPPL\\desktop-tutorial\\tutorials\\app.py:13\u001b[0m\n\u001b[0;32m      1\u001b[0m \u001b[39m# пишу абсолютно никуда не подглядывая, просто что есть в памяти\u001b[39;00m\n\u001b[0;32m      2\u001b[0m \u001b[39m# почему код сильный или чистый?\u001b[39;00m\n\u001b[0;32m      3\u001b[0m \u001b[39m# 1. Он максимально использует библиотеки python, где уже всё прописано (т.е. использует исходный код, который претерпел уже не один релиз, от того является надёжным)\u001b[39;00m\n\u001b[1;32m   (...)\u001b[0m\n\u001b[0;32m     11\u001b[0m \u001b[39m# Роман: class создавал лишь однажды, и четно говоря не помню, для чего он (есть мысль, того что она создаётся для каких-то однотипных объектов).\u001b[39;00m\n\u001b[0;32m     12\u001b[0m \u001b[39m# Роман: объявляем функцию, далее называем её, у неё два параметра.\u001b[39;00m\n\u001b[1;32m---> 13\u001b[0m \u001b[39mclass\u001b[39;00m \u001b[39mWindowSet\u001b[39;00m(MutableSet):\n\u001b[0;32m     14\u001b[0m     \u001b[39mdef\u001b[39;00m \u001b[39m__init__\u001b[39m(\u001b[39mself\u001b[39m, app: App):  \u001b[39m# Роман: не знаю что обозначает в параметре app значение App\u001b[39;00m\n\u001b[0;32m     15\u001b[0m \u001b[39m        \u001b[39m\u001b[39m\"\"\"A collection of windows managed by an app.\u001b[39;00m\n\u001b[0;32m     16\u001b[0m \n\u001b[0;32m     17\u001b[0m \u001b[39m        A window is automatically added to the app when it is created, and removed when\u001b[39;00m\n\u001b[0;32m     18\u001b[0m \u001b[39m        it is closed. Adding a window to an App's window set automatically sets the\u001b[39;00m\n\u001b[0;32m     19\u001b[0m \u001b[39m        :attr:`~toga.Window.app` property of the Window.\u001b[39;00m\n\u001b[0;32m     20\u001b[0m \u001b[39m        \"\"\"\u001b[39;00m\n",
      "\u001b[1;31mNameError\u001b[0m: name 'MutableSet' is not defined"
     ]
    }
   ],
   "source": [
    "# пишу абсолютно никуда не подглядывая, просто что есть в памяти\n",
    "# почему код сильный или чистый?\n",
    "# 1. Он максимально использует библиотеки python, где уже всё прописано (т.е. использует исходный код, который претерпел уже не один релиз, от того является надёжным)\n",
    "# 2. Даёт описание функции, что она делает\n",
    "# 3. С помощью библиотек, колбек функции максимально сокращает код\n",
    "# 4. class описывает максимально полно функционал работы с окнами, это сокращает количество классов которые нужно запомнить программисту\n",
    "\n",
    "# Что данный код делает?\n",
    "# До конца понять не смог, думаю что управляет окнами. Все функции, точно не перечислю так как не смог их прочитать\n",
    "\n",
    "# Роман: class создавал лишь однажды, и четно говоря не помню, для чего он (есть мысль, того что она создаётся для каких-то однотипных объектов).\n",
    "# Роман: объявляем функцию, далее называем её, у неё два параметра.\n",
    "class WindowSet(MutableSet):\n",
    "    def __init__(self, app: App):  # Роман: не знаю что обозначает в параметре app значение App\n",
    "        \"\"\"A collection of windows managed by an app.\n",
    "\n",
    "        A window is automatically added to the app when it is created, and removed when\n",
    "        it is closed. Adding a window to an App's window set automatically sets the\n",
    "        :attr:`~toga.Window.app` property of the Window.\n",
    "        \"\"\"\n",
    "        self.app = app  # Роман: не понимаю\n",
    "        # Роман: по идее должна выполниться некая функция set(), что перед ней не знаю\n",
    "        self.elements = set()\n",
    "\n",
    "    def add(self, window: Window) -> None:  # Роман: здесь по идее колбек функции, как в javascript (но я данную тему = колбек функций не понял, хотя она вроде как призвана сократить код)\n",
    "        # Роман: условие, но корректно почитать его не могу\n",
    "        if not isinstance(window, Window):\n",
    "            # Роман: не понимаю\n",
    "            raise TypeError(\"Can only add objects of type toga.Window\")\n",
    "        # Silently not add if duplicate\n",
    "        if window not in self.elements:\n",
    "            self.elements.add(window)\n",
    "            window.app = self.app\n",
    "\n",
    "    def discard(self, window: Window) -> None:\n",
    "        if not isinstance(window, Window):\n",
    "            raise TypeError(\"Can only discard objects of type toga.Window\")\n",
    "        if window not in self.elements:\n",
    "            # Роман: здесь используется f строка, которая позволяет запускать функции, или склеивать что-то с чем-то\n",
    "            raise ValueError(f\"{window!r} is not part of this app\")\n",
    "        self.elements.remove(window)\n",
    "\n",
    "    ######################################################################\n",
    "    # 2023-10: Backwards compatibility\n",
    "    ######################################################################\n",
    "\n",
    "    def __iadd__(self, window: Window) -> None:\n",
    "        # The standard set type does not have a += operator.\n",
    "        warn(\n",
    "            \"Windows are automatically associated with the app; += is not required\",\n",
    "            DeprecationWarning,\n",
    "            stacklevel=2,\n",
    "        )\n",
    "        return self  # Роман: return окончание функции\n",
    "\n",
    "    def __isub__(self, other: Window) -> None:\n",
    "        # The standard set type does have a -= operator, but it takes sets rather than\n",
    "        # individual items.\n",
    "        warn(\n",
    "            \"Windows are automatically removed from the app; -= is not required\",\n",
    "            DeprecationWarning,\n",
    "            stacklevel=2,\n",
    "        )\n",
    "        return self\n",
    "\n",
    "    ######################################################################\n",
    "    # End backwards compatibility\n",
    "    ######################################################################\n",
    "\n",
    "    def __iter__(self) -> Iterator:\n",
    "        return iter(self.elements)\n",
    "\n",
    "    def __contains__(self, value: Window) -> bool:\n",
    "        return value in self.elements\n",
    "\n",
    "    def __len__(self) -> int:\n",
    "        return len(self.elements)"
   ]
  }
 ],
 "metadata": {
  "kernelspec": {
   "display_name": "Python 3",
   "language": "python",
   "name": "python3"
  },
  "language_info": {
   "name": "python",
   "version": "3.11.4"
  }
 },
 "nbformat": 4,
 "nbformat_minor": 2
}
